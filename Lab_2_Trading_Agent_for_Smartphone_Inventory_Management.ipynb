{
  "nbformat": 4,
  "nbformat_minor": 0,
  "metadata": {
    "colab": {
      "provenance": [],
      "authorship_tag": "ABX9TyMBnLszk1q8TE4pKz0PvVq4",
      "include_colab_link": true
    },
    "kernelspec": {
      "name": "python3",
      "display_name": "Python 3"
    },
    "language_info": {
      "name": "python"
    }
  },
  "cells": [
    {
      "cell_type": "markdown",
      "metadata": {
        "id": "view-in-github",
        "colab_type": "text"
      },
      "source": [
        "<a href=\"https://colab.research.google.com/github/MdShakil-Hossain/CSE-366-AI-Labs/blob/main/Lab_2_Trading_Agent_for_Smartphone_Inventory_Management.ipynb\" target=\"_parent\"><img src=\"https://colab.research.google.com/assets/colab-badge.svg\" alt=\"Open In Colab\"/></a>"
      ]
    },
    {
      "cell_type": "code",
      "execution_count": null,
      "metadata": {
        "id": "h1_9JHsWp5Sg"
      },
      "outputs": [],
      "source": [
        "import random\n",
        "import matplotlib.pyplot as plt\n"
      ]
    },
    {
      "cell_type": "code",
      "source": [
        "class SmartphoneInventory:\n",
        "    \"\"\"\n",
        "    Manages smartphone stocks and prices.\n",
        "    \"\"\"\n",
        "\n",
        "    def __init__(self, models):\n",
        "        \"\"\"\n",
        "        Initialize with a list of smartphone\n",
        "        \"\"\"\n",
        "        self.models = models\n",
        "\n",
        "    def update_stock(self, model, quantity):\n",
        "        \"\"\"\n",
        "        Add more units to the stock\n",
        "        \"\"\"\n",
        "        if model in self.models:\n",
        "            self.models[model][\"stock\"] += quantity\n",
        "            print(f\"{model} restocked. New stock: {self.models[model]['stock']}\")\n",
        "        else:\n",
        "            print(f\"{model} not found in inventory.\")\n",
        "\n",
        "    def get_stock(self, model):\n",
        "        \"\"\"Get the current stock of a smartphone model.\"\"\"\n",
        "        return self.models[model][\"stock\"]\n",
        "\n",
        "    def get_price(self, model):\n",
        "        \"\"\"Get the current price of a smartphone model.\"\"\"\n",
        "        return self.models[model][\"price\"]\n",
        "\n",
        "    def get_average_price(self, model):\n",
        "        \"\"\"Get the average price of a smartphone model.\"\"\"\n",
        "        return self.models[model][\"avg_price\"]\n"
      ],
      "metadata": {
        "id": "0g9sRUJDqZlI"
      },
      "execution_count": null,
      "outputs": []
    },
    {
      "cell_type": "code",
      "source": [
        "class TradingAgent:\n",
        "    \"\"\"\n",
        "    Decisions about when to order more smartphones.\n",
        "    \"\"\"\n",
        "\n",
        "    def __init__(self, inventory):\n",
        "        \"\"\"\n",
        "        Starts with an inventory to monitor.\n",
        "        \"\"\"\n",
        "        self.inventory = inventory\n",
        "        self.order_log = {model: [] for model in inventory.models}\n",
        "\n",
        "    def decide_order(self, model):\n",
        "        \"\"\"\n",
        "        Decides if and how many units to order for a smartphone.\n",
        "        \"\"\"\n",
        "        current_price = self.inventory.get_price(model)\n",
        "        avg_price = self.inventory.get_average_price(model)\n",
        "        stock = self.inventory.get_stock(model)\n",
        "\n",
        "        threshold_price = avg_price * 0.8  # 20% below average price\n",
        "        to_order = 0\n",
        "\n",
        "        if current_price < threshold_price:\n",
        "            # If the price is a bargain\n",
        "            to_order = 15 if stock >= 10 else 20\n",
        "        elif stock < 10:\n",
        "            # If the stock is critically low\n",
        "            to_order = 10\n",
        "\n",
        "        if to_order > 0:\n",
        "            self.inventory.update_stock(model, to_order)\n",
        "\n",
        "        self.order_log[model].append(to_order)\n",
        "        print(f\"{model}: Ordered {to_order} units at price {current_price}\")\n",
        "        return to_order\n",
        "\n",
        "    def run_simulation(self, price_changes, days=10):\n",
        "        \"\"\"\n",
        "        Simulate 10 days of price changes and ordering decisions.\n",
        "        \"\"\"\n",
        "        for day in range(days):\n",
        "            print(f\"--- Day {day + 1} ---\")\n",
        "            for model, prices in price_changes.items():\n",
        "                self.inventory.models[model][\"price\"] = prices[day]\n",
        "                self.decide_order(model)\n",
        "        print(\"Simulation complete!\")\n"
      ],
      "metadata": {
        "id": "3iOsF1VTqaPX"
      },
      "execution_count": null,
      "outputs": []
    },
    {
      "cell_type": "code",
      "source": [
        "class Visualization:\n",
        "    @staticmethod\n",
        "    def plot_orders(order_log):\n",
        "        \"\"\"\n",
        "        Show how many units were ordered each day for each model.\n",
        "        \"\"\"\n",
        "        for model, orders in order_log.items():\n",
        "            plt.plot(orders, label=model)\n",
        "        plt.xlabel(\"Days\")\n",
        "        plt.ylabel(\"Units Ordered\")\n",
        "        plt.title(\"Order History\")\n",
        "        plt.legend()\n",
        "        plt.show()\n"
      ],
      "metadata": {
        "id": "TWjwXwBMqcz4"
      },
      "execution_count": null,
      "outputs": []
    },
    {
      "cell_type": "code",
      "source": [
        "class Visualization:\n",
        "    \"\"\"\n",
        "    Handles visualization for simulation results.\n",
        "    \"\"\"\n",
        "\n",
        "    @staticmethod\n",
        "    def plot_orders(order_log):\n",
        "        \"\"\"\n",
        "        Order history of all smartphone models.\n",
        "        \"\"\"\n",
        "        for model, orders in order_log.items():\n",
        "            plt.plot(orders, label=model)\n",
        "        plt.xlabel(\"Days\")\n",
        "        plt.ylabel(\"Units Ordered\")\n",
        "        plt.title(\"Order History\")\n",
        "        plt.legend()\n",
        "        plt.show()\n"
      ],
      "metadata": {
        "id": "eZ2yQgrKqguA"
      },
      "execution_count": null,
      "outputs": []
    },
    {
      "cell_type": "code",
      "source": [
        "\n",
        "models = {\n",
        "    \"Samsung Galaxy A34\": {\"stock\": 20, \"price\": 28000, \"avg_price\": 30000},\n",
        "    \"iPhone 13\": {\"stock\": 15, \"price\": 80000, \"avg_price\": 85000},\n",
        "}\n",
        "\n",
        "\n",
        "price_changes = {\n",
        "    \"Samsung Galaxy A34\": [29000, 27000, 25000, 24000, 22000, 26000, 28000, 30000, 31000, 29000],\n",
        "    \"iPhone 13\": [82000, 80000, 78000, 76000, 74000, 72000, 71000, 73000, 75000, 77000],\n",
        "}\n",
        "\n",
        "# Step 3: Set up the inventory and agent\n",
        "inventory = SmartphoneInventory(models)\n",
        "agent = TradingAgent(inventory)\n",
        "\n",
        "# Step 4: Run the simulation\n",
        "agent.run_simulation(price_changes, days=10)\n",
        "\n",
        "# Step 5: Visualize the results\n",
        "Visualization.plot_orders(agent.order_log)\n"
      ],
      "metadata": {
        "colab": {
          "base_uri": "https://localhost:8080/",
          "height": 1000
        },
        "id": "sVKNmfkNsYbo",
        "outputId": "f6a9a732-bfd4-46ec-d71e-aa377302f81f"
      },
      "execution_count": null,
      "outputs": [
        {
          "output_type": "stream",
          "name": "stdout",
          "text": [
            "--- Day 1 ---\n",
            "Samsung Galaxy A34: Ordered 0 units at price 29000\n",
            "iPhone 13: Ordered 0 units at price 82000\n",
            "--- Day 2 ---\n",
            "Samsung Galaxy A34: Ordered 0 units at price 27000\n",
            "iPhone 13: Ordered 0 units at price 80000\n",
            "--- Day 3 ---\n",
            "Samsung Galaxy A34: Ordered 0 units at price 25000\n",
            "iPhone 13: Ordered 0 units at price 78000\n",
            "--- Day 4 ---\n",
            "Samsung Galaxy A34: Ordered 0 units at price 24000\n",
            "iPhone 13: Ordered 0 units at price 76000\n",
            "--- Day 5 ---\n",
            "Samsung Galaxy A34 restocked. New stock: 35\n",
            "Samsung Galaxy A34: Ordered 15 units at price 22000\n",
            "iPhone 13: Ordered 0 units at price 74000\n",
            "--- Day 6 ---\n",
            "Samsung Galaxy A34: Ordered 0 units at price 26000\n",
            "iPhone 13: Ordered 0 units at price 72000\n",
            "--- Day 7 ---\n",
            "Samsung Galaxy A34: Ordered 0 units at price 28000\n",
            "iPhone 13: Ordered 0 units at price 71000\n",
            "--- Day 8 ---\n",
            "Samsung Galaxy A34: Ordered 0 units at price 30000\n",
            "iPhone 13: Ordered 0 units at price 73000\n",
            "--- Day 9 ---\n",
            "Samsung Galaxy A34: Ordered 0 units at price 31000\n",
            "iPhone 13: Ordered 0 units at price 75000\n",
            "--- Day 10 ---\n",
            "Samsung Galaxy A34: Ordered 0 units at price 29000\n",
            "iPhone 13: Ordered 0 units at price 77000\n",
            "Simulation complete!\n"
          ]
        },
        {
          "output_type": "display_data",
          "data": {
            "text/plain": [
              "<Figure size 640x480 with 1 Axes>"
            ],
            "image/png": "[encoded data removed]"
          },
          "metadata": {}
        }
      ]
    }
  ]
}